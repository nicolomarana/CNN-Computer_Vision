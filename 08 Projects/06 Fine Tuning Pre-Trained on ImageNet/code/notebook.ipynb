{
  "nbformat": 4,
  "nbformat_minor": 0,
  "metadata": {
    "colab": {
      "name": "Assigment_4",
      "version": "0.3.2",
      "provenance": []
    },
    "kernelspec": {
      "name": "python3",
      "display_name": "Python 3"
    },
    "accelerator": "GPU"
  },
  "cells": [
    {
      "metadata": {
        "id": "NnkIM8CkvOKT",
        "colab_type": "code",
        "colab": {}
      },
      "cell_type": "code",
      "source": [
        "import numpy\n",
        "seed = 42\n",
        "numpy.random.seed(seed)\n"
      ],
      "execution_count": 0,
      "outputs": []
    },
    {
      "metadata": {
        "id": "wjl_1cBv5ruL",
        "colab_type": "code",
        "colab": {
          "base_uri": "https://localhost:8080/",
          "height": 125
        },
        "outputId": "ef971fa3-8761-41a4-c226-17ee9239df3a"
      },
      "cell_type": "code",
      "source": [
        "from google.colab import drive\n",
        "drive.mount('/content/gdrive/')"
      ],
      "execution_count": 2,
      "outputs": [
        {
          "output_type": "stream",
          "text": [
            "Go to this URL in a browser: https://accounts.google.com/o/oauth2/auth?client_id=947318989803-6bn6qk8qdgf4n4g3pfee6491hc0brc4i.apps.googleusercontent.com&redirect_uri=urn%3Aietf%3Awg%3Aoauth%3A2.0%3Aoob&scope=email%20https%3A%2F%2Fwww.googleapis.com%2Fauth%2Fdocs.test%20https%3A%2F%2Fwww.googleapis.com%2Fauth%2Fdrive%20https%3A%2F%2Fwww.googleapis.com%2Fauth%2Fdrive.photos.readonly%20https%3A%2F%2Fwww.googleapis.com%2Fauth%2Fpeopleapi.readonly&response_type=code\n",
            "\n",
            "Enter your authorization code:\n",
            "··········\n",
            "Mounted at /content/gdrive/\n"
          ],
          "name": "stdout"
        }
      ]
    },
    {
      "metadata": {
        "id": "oFfcW0wRDyBh",
        "colab_type": "code",
        "colab": {
          "base_uri": "https://localhost:8080/",
          "height": 34
        },
        "outputId": "622c0d62-087c-44e4-e050-bb1c0f9797bf"
      },
      "cell_type": "code",
      "source": [
        "from keras.preprocessing.image import ImageDataGenerator\n",
        "\n",
        "\n",
        "''' \n",
        "    This function data_generator(path, shuffle)\n",
        "    \n",
        "    - Create an instance of ImageDataGenerator with different parametrer\n",
        "    - Create from directory of data a data generator\n",
        "    \n",
        "    - Return a generator of data\n",
        "'''\n",
        "\n",
        "\n",
        "def data_generator(path, shuffle=True):\n",
        "    generator = ImageDataGenerator(rescale=1. / 255)\n",
        "    data = generator.flow_from_directory(path,\n",
        "                                         target_size=(224, 224),\n",
        "                                         batch_size=32,\n",
        "                                         class_mode='categorical',\n",
        "                                         shuffle=shuffle)\n",
        "    return data\n",
        "\n"
      ],
      "execution_count": 3,
      "outputs": [
        {
          "output_type": "stream",
          "text": [
            "Using TensorFlow backend.\n"
          ],
          "name": "stderr"
        }
      ]
    },
    {
      "metadata": {
        "id": "v0jCtK_nEKew",
        "colab_type": "code",
        "colab": {}
      },
      "cell_type": "code",
      "source": [
        "from keras.models import Sequential\n",
        "from keras.layers.core import Flatten, Dense, Dropout\n",
        "from keras.layers.convolutional import Convolution2D, MaxPooling2D, ZeroPadding2D\n",
        "import matplotlib.pyplot as plt\n",
        "import datetime\n",
        "\n",
        "\n",
        "'''\n",
        "    This function vgg16(weight_path=None)\n",
        "    \n",
        "    - Create structure as VGG16\n",
        "    - Import weight of VGG16 trained on \"ImageNet\"\n",
        "    \n",
        "    - return the model vgg16 with weights\n",
        "    \n",
        "'''\n",
        "\n",
        "\n",
        "def vgg16(weights_path=None):\n",
        "    model = Sequential()\n",
        "    model.add(ZeroPadding2D((1, 1), input_shape=(224, 224, 3)))\n",
        "    model.add(Convolution2D(64, (3, 3), activation='relu'))\n",
        "    model.add(ZeroPadding2D((1, 1)))\n",
        "    model.add(Convolution2D(64, (3, 3), activation='relu'))\n",
        "    model.add(MaxPooling2D((2, 2), strides=(2, 2)))\n",
        "\n",
        "    model.add(ZeroPadding2D((1, 1)))\n",
        "    model.add(Convolution2D(128, (3, 3), activation='relu'))\n",
        "    model.add(ZeroPadding2D((1, 1)))\n",
        "    model.add(Convolution2D(128, (3, 3), activation='relu'))\n",
        "    model.add(MaxPooling2D((2, 2), strides=(2, 2)))\n",
        "\n",
        "    model.add(ZeroPadding2D((1, 1)))\n",
        "    model.add(Convolution2D(256, (3, 3), activation='relu'))\n",
        "    model.add(ZeroPadding2D((1, 1)))\n",
        "    model.add(Convolution2D(256, (3, 3), activation='relu'))\n",
        "    model.add(ZeroPadding2D((1, 1)))\n",
        "    model.add(Convolution2D(256, (3, 3), activation='relu'))\n",
        "    model.add(MaxPooling2D((2, 2), strides=(2, 2)))\n",
        "\n",
        "    model.add(ZeroPadding2D((1, 1)))\n",
        "    model.add(Convolution2D(512, (3, 3), activation='relu'))\n",
        "    model.add(ZeroPadding2D((1, 1)))\n",
        "    model.add(Convolution2D(512, (3, 3), activation='relu'))\n",
        "    model.add(ZeroPadding2D((1, 1)))\n",
        "    model.add(Convolution2D(512, (3, 3), activation='relu'))\n",
        "    model.add(MaxPooling2D((2, 2), strides=(2, 2)))\n",
        "\n",
        "    model.add(ZeroPadding2D((1, 1)))\n",
        "    model.add(Convolution2D(512, (3, 3), activation='relu'))\n",
        "    model.add(ZeroPadding2D((1, 1)))\n",
        "    model.add(Convolution2D(512, (3, 3), activation='relu'))\n",
        "    model.add(ZeroPadding2D((1, 1)))\n",
        "    model.add(Convolution2D(512, (3, 3), activation='relu'))\n",
        "    model.add(MaxPooling2D((2, 2), strides=(2, 2)))\n",
        "\n",
        "    model.add(Flatten())\n",
        "    model.add(Dense(4096, activation='relu'))\n",
        "    model.add(Dropout(0.5))\n",
        "    model.add(Dense(4096, activation='relu'))\n",
        "    model.add(Dropout(0.5))\n",
        "    model.add(Dense(1000, activation='softmax'))\n",
        "\n",
        "    if weights_path:\n",
        "        model.load_weights(weights_path)\n",
        "\n",
        "    return model\n",
        "\n",
        "\n",
        "''' \n",
        "    This function vgg16_edit(path):\n",
        "    \n",
        "    - Create a model with structure of vgg16 through vgg16()\n",
        "    - Freeze layer of this model\n",
        "    - Remove a defined number of layer\n",
        "    - Add new layers\n",
        " \n",
        "    - return the model based on vgg16 but modified\n",
        "\n",
        "    \n",
        "'''\n",
        "\n",
        "\n",
        "def vgg16_edit(path):\n",
        "    model = vgg16(path)\n",
        "\n",
        "    # Freezing Vgg16 layers\n",
        "    for layer in model.layers[:37]:\n",
        "        layer.trainable = False\n",
        "\n",
        "    # number of element to delete\n",
        "    number_delete_layer = 5\n",
        "\n",
        "    for i in range(number_delete_layer):\n",
        "        model.pop()\n",
        "\n",
        "    # Add new layers\n",
        "    model.add(Dense(64, activation='relu'))\n",
        "    model.add(Dropout(0.5))\n",
        "    model.add(Dense(4, activation='softmax'))\n",
        "\n",
        "    return model\n",
        "\n",
        "\n",
        "'''\n",
        "    This function training(model, loss, optimizer, train, dev, epoch)\n",
        "    \n",
        "    - compile the model\n",
        "    - set a start timer\n",
        "    - fit the model\n",
        "    - set a stop timer\n",
        "    - print time of execution\n",
        "    - plot result\n",
        "   \n",
        "'''\n",
        "\n",
        "\n",
        "def training(model, loss, optimizer, train, dev, epoch):\n",
        "\n",
        "    # Compile model\n",
        "    model.compile(loss=loss,\n",
        "                  optimizer=optimizer,\n",
        "                  metrics=['accuracy'])\n",
        "\n",
        "    # Start timer\n",
        "    time_start = datetime.datetime.now()\n",
        "\n",
        "    # Fit model\n",
        "    result = model.fit_generator(train,\n",
        "                                 steps_per_epoch=5,\n",
        "                                 epochs=epoch,\n",
        "                                 validation_data=dev,\n",
        "                                 validation_steps=5)\n",
        "\n",
        "    # Stop timer\n",
        "    time_stop = datetime.datetime.now()\n",
        "\n",
        "    # Print time\n",
        "    print(\"Execution time: \", (time_stop - time_start).total_seconds())\n",
        "\n",
        "    # Show Plot\n",
        "    show_history(result, 'acc', 'val_acc', 'accuracy', 'epoch', 'train', 'validation', acc=1)\n",
        "    show_history(result, 'loss', 'val_loss', 'loss', 'epoch', 'train', 'validation')\n",
        "    \n",
        "    return model\n",
        "\n",
        "\n",
        "'''\n",
        "    This function show_history(result, measure1, measure2, metrics, unit, set1, set2)\n",
        "    \n",
        "    - plot measure1 = e.g. acc\n",
        "    - plot measure2 = e.g. val_acc\n",
        "    - metrics e.g. accuracy\n",
        "    - unit e.g. epoch\n",
        "    - set1 e.g. training set\n",
        "    - set2 e.g. validation set\n",
        "\n",
        "'''\n",
        "\n",
        "\n",
        "def show_history(result, measure1='', measure2='', metrics='', unit='', set1='', set2='', acc=None):\n",
        "    plt.plot(result.history[measure1])\n",
        "    plt.plot(result.history[measure2])\n",
        "    axes = plt.gca()\n",
        "    axes.set_xlim([0, epochs])\n",
        "    axes.set_ylim([0, acc])\n",
        "\n",
        "    \n",
        "    plt.ylabel(metrics)\n",
        "    plt.xlabel(unit)\n",
        "    plt.legend([set1, set2], loc='upper left')\n",
        "    plt.show()\n",
        "\n",
        "\n",
        "''' \n",
        "    This function testing(model, test):\n",
        "    \n",
        "    - evaluate model\n",
        "    - print result\n",
        "\n",
        "'''\n",
        "\n",
        "def testing(model, test, batch):\n",
        "\n",
        "    score = model.evaluate_generator(test, ((100 // batch) + 1))\n",
        "\n",
        "    print(score[0], 'loss')\n",
        "    print(score[1], 'accuracy')\n",
        "    \n",
        "    return\n",
        "\n",
        "\n"
      ],
      "execution_count": 0,
      "outputs": []
    },
    {
      "metadata": {
        "id": "LpYu2PQ6ENNV",
        "colab_type": "code",
        "colab": {}
      },
      "cell_type": "code",
      "source": [
        "''' Directory '''\n",
        "path_train = '/content/gdrive/My Drive/Colab Notebooks/dataset/training_set/'\n",
        "path_dev = '/content/gdrive/My Drive/Colab Notebooks/dataset/dev_set/'\n",
        "path_test = '/content/gdrive/My Drive/Colab Notebooks/dataset/test_set/'\n",
        "path_weights = '/content/gdrive/My Drive/Colab Notebooks/vgg16_weights_tf_dim_ordering_tf_kernels.h5'\n"
      ],
      "execution_count": 0,
      "outputs": []
    },
    {
      "metadata": {
        "id": "-o9M4h61ERzz",
        "colab_type": "code",
        "colab": {}
      },
      "cell_type": "code",
      "source": [
        "from keras.optimizers import Adam\n",
        "\n",
        "''' Hyper-parameter '''\n",
        "batch_size = 64\n",
        "epochs = 30\n",
        "loss = 'categorical_crossentropy'\n",
        "lr = 0.0005\n",
        "decay = lr/epochs\n",
        "\n",
        "\n",
        "adam = Adam(lr=lr, beta_1=0.9, beta_2=0.999, epsilon=None, decay=decay)\n",
        "optimizer = adam\n"
      ],
      "execution_count": 0,
      "outputs": []
    },
    {
      "metadata": {
        "id": "BLVVOBq8ETsy",
        "colab_type": "code",
        "colab": {
          "base_uri": "https://localhost:8080/",
          "height": 70
        },
        "outputId": "f675ae15-a80c-4843-d9f9-983ed648b5cc"
      },
      "cell_type": "code",
      "source": [
        "''' Create Generator for train, dev, test '''\n",
        "train_generator = data_generator(path_train, shuffle=True)\n",
        "\n",
        "dev_generator = data_generator(path_dev, shuffle=True)\n",
        "\n",
        "test_generator = data_generator(path_test, shuffle=False)\n"
      ],
      "execution_count": 7,
      "outputs": [
        {
          "output_type": "stream",
          "text": [
            "Found 320 images belonging to 4 classes.\n",
            "Found 80 images belonging to 4 classes.\n",
            "Found 100 images belonging to 4 classes.\n"
          ],
          "name": "stdout"
        }
      ]
    },
    {
      "metadata": {
        "id": "P2tb2mZdEgaT",
        "colab_type": "code",
        "colab": {
          "base_uri": "https://localhost:8080/",
          "height": 34
        },
        "outputId": "67f1ef9a-08a1-44be-8d49-b8ced5220381"
      },
      "cell_type": "code",
      "source": [
        "''' Print statistics about data'''\n",
        "class_dictionary = train_generator.class_indices\n",
        "print(\"Class-Index:\", class_dictionary)"
      ],
      "execution_count": 8,
      "outputs": [
        {
          "output_type": "stream",
          "text": [
            "Class-Index: {'bear': 0, 'bird': 1, 'cat': 2, 'dog': 3}\n"
          ],
          "name": "stdout"
        }
      ]
    },
    {
      "metadata": {
        "id": "kgNIs2IuEjHb",
        "colab_type": "code",
        "colab": {}
      },
      "cell_type": "code",
      "source": [
        "''' Create model based on vgg16 edited'''\n",
        "model = vgg16_edit(path_weights)\n",
        "\n"
      ],
      "execution_count": 0,
      "outputs": []
    },
    {
      "metadata": {
        "id": "l1plwwaGElY-",
        "colab_type": "code",
        "colab": {
          "base_uri": "https://localhost:8080/",
          "height": 1812
        },
        "outputId": "97ffffb6-9990-41af-a84f-9eb47ab2e94d"
      },
      "cell_type": "code",
      "source": [
        "''' Training model'''\n",
        "training(model, loss, optimizer, train_generator, dev_generator, epochs)"
      ],
      "execution_count": 10,
      "outputs": [
        {
          "output_type": "stream",
          "text": [
            "Epoch 1/30\n",
            "5/5 [==============================] - 36s 7s/step - loss: 1.5366 - acc: 0.3937 - val_loss: 1.0135 - val_acc: 0.5278\n",
            "Epoch 2/30\n",
            "5/5 [==============================] - 31s 6s/step - loss: 1.2632 - acc: 0.4312 - val_loss: 0.9131 - val_acc: 0.6562\n",
            "Epoch 3/30\n",
            "5/5 [==============================] - 3s 588ms/step - loss: 0.8122 - acc: 0.6250 - val_loss: 0.8763 - val_acc: 0.7031\n",
            "Epoch 4/30\n",
            "5/5 [==============================] - 3s 614ms/step - loss: 0.6833 - acc: 0.7687 - val_loss: 0.7401 - val_acc: 0.7639\n",
            "Epoch 5/30\n",
            "5/5 [==============================] - 3s 587ms/step - loss: 0.5460 - acc: 0.8000 - val_loss: 0.5823 - val_acc: 0.8125\n",
            "Epoch 6/30\n",
            "5/5 [==============================] - 3s 592ms/step - loss: 0.5022 - acc: 0.8250 - val_loss: 0.6048 - val_acc: 0.7891\n",
            "Epoch 7/30\n",
            "5/5 [==============================] - 3s 619ms/step - loss: 0.4355 - acc: 0.8250 - val_loss: 0.6509 - val_acc: 0.7431\n",
            "Epoch 8/30\n",
            "5/5 [==============================] - 3s 587ms/step - loss: 0.4245 - acc: 0.8250 - val_loss: 0.5804 - val_acc: 0.7812\n",
            "Epoch 9/30\n",
            "5/5 [==============================] - 3s 591ms/step - loss: 0.4161 - acc: 0.8312 - val_loss: 0.6199 - val_acc: 0.8047\n",
            "Epoch 10/30\n",
            "5/5 [==============================] - 3s 616ms/step - loss: 0.3865 - acc: 0.8500 - val_loss: 0.6206 - val_acc: 0.7639\n",
            "Epoch 11/30\n",
            "5/5 [==============================] - 3s 598ms/step - loss: 0.3302 - acc: 0.8688 - val_loss: 0.6784 - val_acc: 0.6953\n",
            "Epoch 12/30\n",
            "5/5 [==============================] - 3s 588ms/step - loss: 0.3146 - acc: 0.8937 - val_loss: 0.5925 - val_acc: 0.7812\n",
            "Epoch 13/30\n",
            "5/5 [==============================] - 3s 618ms/step - loss: 0.3038 - acc: 0.9000 - val_loss: 0.6249 - val_acc: 0.7917\n",
            "Epoch 14/30\n",
            "5/5 [==============================] - 3s 587ms/step - loss: 0.2798 - acc: 0.8875 - val_loss: 0.5523 - val_acc: 0.8359\n",
            "Epoch 15/30\n",
            "5/5 [==============================] - 3s 587ms/step - loss: 0.2314 - acc: 0.9250 - val_loss: 0.5003 - val_acc: 0.8594\n",
            "Epoch 16/30\n",
            "5/5 [==============================] - 3s 614ms/step - loss: 0.1467 - acc: 0.9500 - val_loss: 0.5597 - val_acc: 0.8264\n",
            "Epoch 17/30\n",
            "5/5 [==============================] - 3s 583ms/step - loss: 0.1666 - acc: 0.9375 - val_loss: 0.5985 - val_acc: 0.8125\n",
            "Epoch 18/30\n",
            "5/5 [==============================] - 3s 587ms/step - loss: 0.1738 - acc: 0.9500 - val_loss: 0.4968 - val_acc: 0.8438\n",
            "Epoch 19/30\n",
            "5/5 [==============================] - 3s 613ms/step - loss: 0.1632 - acc: 0.9625 - val_loss: 0.5465 - val_acc: 0.8194\n",
            "Epoch 20/30\n",
            "5/5 [==============================] - 3s 585ms/step - loss: 0.1348 - acc: 0.9500 - val_loss: 0.5537 - val_acc: 0.7812\n",
            "Epoch 21/30\n",
            "5/5 [==============================] - 3s 589ms/step - loss: 0.1040 - acc: 0.9750 - val_loss: 0.5329 - val_acc: 0.8047\n",
            "Epoch 22/30\n",
            "5/5 [==============================] - 3s 613ms/step - loss: 0.1211 - acc: 0.9688 - val_loss: 0.5889 - val_acc: 0.7847\n",
            "Epoch 23/30\n",
            "5/5 [==============================] - 3s 585ms/step - loss: 0.1233 - acc: 0.9813 - val_loss: 0.5346 - val_acc: 0.8125\n",
            "Epoch 24/30\n",
            "5/5 [==============================] - 3s 588ms/step - loss: 0.1057 - acc: 0.9813 - val_loss: 0.5342 - val_acc: 0.7969\n",
            "Epoch 25/30\n",
            "5/5 [==============================] - 3s 613ms/step - loss: 0.1079 - acc: 0.9813 - val_loss: 0.5904 - val_acc: 0.8056\n",
            "Epoch 26/30\n",
            "5/5 [==============================] - 3s 588ms/step - loss: 0.1281 - acc: 0.9500 - val_loss: 0.5935 - val_acc: 0.7969\n",
            "Epoch 27/30\n",
            "5/5 [==============================] - 3s 586ms/step - loss: 0.1065 - acc: 0.9750 - val_loss: 0.5286 - val_acc: 0.8203\n",
            "Epoch 28/30\n",
            "5/5 [==============================] - 3s 616ms/step - loss: 0.1022 - acc: 0.9875 - val_loss: 0.5835 - val_acc: 0.8125\n",
            "Epoch 29/30\n",
            "5/5 [==============================] - 3s 587ms/step - loss: 0.1243 - acc: 0.9500 - val_loss: 0.5733 - val_acc: 0.8203\n",
            "Epoch 30/30\n",
            "5/5 [==============================] - 3s 584ms/step - loss: 0.1103 - acc: 0.9688 - val_loss: 0.5163 - val_acc: 0.8125\n",
            "Execution time:  151.299136\n"
          ],
          "name": "stdout"
        },
        {
          "output_type": "display_data",
          "data": {
            "image/png": "[encoded data removed]",
            "text/plain": [
              "<matplotlib.figure.Figure at 0x7f7fb0a9bcc0>"
            ]
          },
          "metadata": {
            "tags": []
          }
        },
        {
          "output_type": "display_data",
          "data": {
            "image/png": "[encoded data removed]",
            "text/plain": [
              "<matplotlib.figure.Figure at 0x7f8011de7518>"
            ]
          },
          "metadata": {
            "tags": []
          }
        },
        {
          "output_type": "execute_result",
          "data": {
            "text/plain": [
              "<keras.engine.sequential.Sequential at 0x7f7fb16f3d30>"
            ]
          },
          "metadata": {
            "tags": []
          },
          "execution_count": 10
        }
      ]
    },
    {
      "metadata": {
        "id": "WkaK3p7PFQvZ",
        "colab_type": "text"
      },
      "cell_type": "markdown",
      "source": [
        ""
      ]
    },
    {
      "metadata": {
        "id": "09PIdaR5EqFw",
        "colab_type": "code",
        "colab": {
          "base_uri": "https://localhost:8080/",
          "height": 52
        },
        "outputId": "a776c557-75e7-4e67-d17a-31c7b1e5f51d"
      },
      "cell_type": "code",
      "source": [
        "''' Testing model'''\n",
        "testing(model, test_generator, batch_size)"
      ],
      "execution_count": 11,
      "outputs": [
        {
          "output_type": "stream",
          "text": [
            "0.3970964699983597 loss\n",
            "0.828125 accuracy\n"
          ],
          "name": "stdout"
        }
      ]
    },
    {
      "metadata": {
        "id": "GGGUPXoFBXK4",
        "colab_type": "code",
        "colab": {}
      },
      "cell_type": "code",
      "source": [
        ""
      ],
      "execution_count": 0,
      "outputs": []
    }
  ]
}